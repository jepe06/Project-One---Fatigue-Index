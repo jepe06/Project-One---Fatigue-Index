{
 "cells": [
  {
   "cell_type": "markdown",
   "metadata": {},
   "source": [
    "# FECHADO :)"
   ]
  },
  {
   "cell_type": "markdown",
   "metadata": {},
   "source": [
    "# REGRESSAO LOGISTICA"
   ]
  },
  {
   "cell_type": "code",
   "execution_count": 30,
   "metadata": {},
   "outputs": [],
   "source": [
    "import joblib\n",
    "import pandas as pd\n",
    "import numpy as np\n",
    "import matplotlib.pyplot as plt\n",
    "import scipy.stats as stats\n",
    "from sklearn.linear_model import LogisticRegression\n",
    "from sklearn.preprocessing import StandardScaler\n",
    "from sklearn.metrics import confusion_matrix, ConfusionMatrixDisplay, classification_report\n",
    "from sklearn.model_selection import train_test_split, RandomizedSearchCV, cross_val_score, learning_curve\n",
    "import warnings\n",
    "\n",
    "\n",
    "\n",
    "plt.rcParams.update({\n",
    "        \"text.usetex\": True,              # If you want to use LaTeX fonts in text\n",
    "        \"font.family\": \"serif\",           # IEEE uses Times New Roman-like fonts\n",
    "        \"font.size\": 12,                   # General font size for IEEE format\n",
    "        \"axes.labelsize\": 12,              # Axis labels font size\n",
    "        \"legend.fontsize\": 11,             # Legend font size\n",
    "        \"xtick.labelsize\": 11,             # X-axis tick labels font size\n",
    "        \"ytick.labelsize\": 11,             # Y-axis tick labels font size\n",
    "        \"figure.figsize\": (5, 5*0.8),\n",
    "        \"savefig.dpi\": 900,               # DPI for high-quality PNG/JPEG\n",
    "        \"figure.dpi\": 50,\n",
    "    })"
   ]
  },
  {
   "cell_type": "code",
   "execution_count": 24,
   "metadata": {},
   "outputs": [
    {
     "data": {
      "text/html": [
       "<div>\n",
       "<style scoped>\n",
       "    .dataframe tbody tr th:only-of-type {\n",
       "        vertical-align: middle;\n",
       "    }\n",
       "\n",
       "    .dataframe tbody tr th {\n",
       "        vertical-align: top;\n",
       "    }\n",
       "\n",
       "    .dataframe thead th {\n",
       "        text-align: right;\n",
       "    }\n",
       "</style>\n",
       "<table border=\"1\" class=\"dataframe\">\n",
       "  <thead>\n",
       "    <tr style=\"text-align: right;\">\n",
       "      <th></th>\n",
       "      <th>pEffort</th>\n",
       "      <th>uaI</th>\n",
       "      <th>SleepInd</th>\n",
       "      <th>Sex_F</th>\n",
       "      <th>pEffort(MA6)</th>\n",
       "      <th>SleepInd(MA6)</th>\n",
       "      <th>uaI(MA6)</th>\n",
       "      <th>Appetite(MA6)</th>\n",
       "      <th>FatigInd</th>\n",
       "    </tr>\n",
       "  </thead>\n",
       "  <tbody>\n",
       "    <tr>\n",
       "      <th>0</th>\n",
       "      <td>6.0</td>\n",
       "      <td>2.08</td>\n",
       "      <td>-5.00</td>\n",
       "      <td>1</td>\n",
       "      <td>4.678341</td>\n",
       "      <td>-4.713350</td>\n",
       "      <td>2.252252</td>\n",
       "      <td>5.297907</td>\n",
       "      <td>Optimal</td>\n",
       "    </tr>\n",
       "    <tr>\n",
       "      <th>1</th>\n",
       "      <td>1.0</td>\n",
       "      <td>2.00</td>\n",
       "      <td>-6.53</td>\n",
       "      <td>1</td>\n",
       "      <td>4.206534</td>\n",
       "      <td>-6.136979</td>\n",
       "      <td>1.997465</td>\n",
       "      <td>6.000013</td>\n",
       "      <td>Optimal</td>\n",
       "    </tr>\n",
       "    <tr>\n",
       "      <th>2</th>\n",
       "      <td>1.0</td>\n",
       "      <td>0.00</td>\n",
       "      <td>-4.00</td>\n",
       "      <td>0</td>\n",
       "      <td>3.712435</td>\n",
       "      <td>-3.576147</td>\n",
       "      <td>1.099577</td>\n",
       "      <td>4.884461</td>\n",
       "      <td>Optimal</td>\n",
       "    </tr>\n",
       "    <tr>\n",
       "      <th>3</th>\n",
       "      <td>5.0</td>\n",
       "      <td>2.69</td>\n",
       "      <td>-6.00</td>\n",
       "      <td>1</td>\n",
       "      <td>4.685066</td>\n",
       "      <td>-5.692758</td>\n",
       "      <td>2.201203</td>\n",
       "      <td>6.000000</td>\n",
       "      <td>Optimal</td>\n",
       "    </tr>\n",
       "    <tr>\n",
       "      <th>4</th>\n",
       "      <td>7.0</td>\n",
       "      <td>2.03</td>\n",
       "      <td>-5.00</td>\n",
       "      <td>1</td>\n",
       "      <td>6.853002</td>\n",
       "      <td>-5.523600</td>\n",
       "      <td>1.905526</td>\n",
       "      <td>6.028801</td>\n",
       "      <td>Optimal</td>\n",
       "    </tr>\n",
       "  </tbody>\n",
       "</table>\n",
       "</div>"
      ],
      "text/plain": [
       "   pEffort   uaI  SleepInd  Sex_F  pEffort(MA6)  SleepInd(MA6)  uaI(MA6)  \\\n",
       "0      6.0  2.08     -5.00      1      4.678341      -4.713350  2.252252   \n",
       "1      1.0  2.00     -6.53      1      4.206534      -6.136979  1.997465   \n",
       "2      1.0  0.00     -4.00      0      3.712435      -3.576147  1.099577   \n",
       "3      5.0  2.69     -6.00      1      4.685066      -5.692758  2.201203   \n",
       "4      7.0  2.03     -5.00      1      6.853002      -5.523600  1.905526   \n",
       "\n",
       "   Appetite(MA6) FatigInd  \n",
       "0       5.297907  Optimal  \n",
       "1       6.000013  Optimal  \n",
       "2       4.884461  Optimal  \n",
       "3       6.000000  Optimal  \n",
       "4       6.028801  Optimal  "
      ]
     },
     "execution_count": 24,
     "metadata": {},
     "output_type": "execute_result"
    }
   ],
   "source": [
    "#df = pd.read_csv('08notsmote_FEAUTURES.csv')\n",
    "df = pd.read_csv('10ma_FEAUTURES.csv')\n",
    "df.head()"
   ]
  },
  {
   "cell_type": "code",
   "execution_count": 25,
   "metadata": {},
   "outputs": [],
   "source": [
    "X = df.drop(columns=[\"FatigInd\"])\n",
    "y = df[\"FatigInd\"]"
   ]
  },
  {
   "cell_type": "markdown",
   "metadata": {},
   "source": [
    "# standartizar os dados e separar treino de teste"
   ]
  },
  {
   "cell_type": "code",
   "execution_count": 26,
   "metadata": {},
   "outputs": [
    {
     "data": {
      "text/plain": [
       "((511, 8), (128, 8))"
      ]
     },
     "execution_count": 26,
     "metadata": {},
     "output_type": "execute_result"
    }
   ],
   "source": [
    "scaler = StandardScaler()\n",
    "X = scaler.fit_transform(X)\n",
    "\n",
    "X_train, X_test, y_train, y_test = train_test_split(X, y, stratify=y, test_size=0.2, random_state=2)\n",
    "X_train.shape, X_test.shape"
   ]
  },
  {
   "cell_type": "markdown",
   "metadata": {},
   "source": [
    "## modelo base"
   ]
  },
  {
   "cell_type": "code",
   "execution_count": 27,
   "metadata": {},
   "outputs": [
    {
     "data": {
      "image/png": "[encoded data removed]",
      "text/plain": [
       "<Figure size 250x200 with 2 Axes>"
      ]
     },
     "metadata": {},
     "output_type": "display_data"
    }
   ],
   "source": [
    "kf = []\n",
    "weightsL = np.arange(0.1, 2, 0.03)  # Range for wLM #CHANGE TO 0.03 E RECONFIMAR PESOS\n",
    "weightsRC = np.arange(0.1, 2, 0.03)  # Range for wRCM#CHANGE TO 0.03\n",
    "grid_scores = np.zeros((len(weightsL), len(weightsRC)))\n",
    "\n",
    "for i, wLM in enumerate(weightsL):\n",
    "    for j, wRC in enumerate(weightsRC):\n",
    "        class_weights = {\"Low/Minimal\": wLM, \"Optimal\": 1, \"Risk/Caution\": wRC}\n",
    "        reglog = LogisticRegression(class_weight=class_weights, max_iter=1000)\n",
    "        scores = cross_val_score(reglog, X_train, y_train, cv=8, scoring='accuracy')\n",
    "        grid_scores[i, j] = scores.mean()\n",
    "    #print(i / len(weightsL) * 100, \"%\")\n",
    "\n",
    "X, Y = np.meshgrid(weightsL, weightsRC)\n",
    "contour = plt.contourf(X, Y, grid_scores.T, cmap=\"viridis\")  # Transpose for proper orientation\n",
    "colorbar = plt.colorbar(contour)\n",
    "colorbar.set_label(\"8-Fold Cross-Validation Accuracy\", fontsize=12)\n",
    "\n",
    "best_idx = np.unravel_index(np.argmax(grid_scores, axis=None), grid_scores.shape)\n",
    "best_wLM = weightsL[best_idx[0]]\n",
    "best_wRC = weightsRC[best_idx[1]]\n",
    "best_score = grid_scores[best_idx]\n",
    "\n",
    "plt.scatter(best_wLM, best_wRC, color=\"red\", label=\"Best Solution\", zorder=5)\n",
    "txt = r'$w_{Low/Minimal} =' + f\"{best_wLM:.2f}\" + r\"$\" + \"\\n\" + r'$w_{Risk/Caution} = ' f'{best_wRC:.2f}' + r'$'\n",
    "plt.text(\n",
    "    best_wLM + 0.2, best_wRC, txt, \n",
    "    color=\"black\", fontsize=10, bbox=dict(facecolor='white', alpha=0.7, boxstyle='round,pad=0.2')\n",
    ")\n",
    "\n",
    "plt.xlabel(r'Class Weights for the \\textit{Low/Minimal} Class')\n",
    "plt.ylabel(r'Class Weights for the \\textit{Risk/Caution} Class')\n",
    "plt.tight_layout()\n",
    "plt.savefig(\"assets/LOGR_class_weights.png\", transparent=True)\n",
    "plt.show()"
   ]
  },
  {
   "cell_type": "code",
   "execution_count": 28,
   "metadata": {},
   "outputs": [
    {
     "name": "stdout",
     "output_type": "stream",
     "text": [
      "Best Parameters: {'C': np.float64(2.1298915659152216), 'class_weight': {'Low/Minimal': 0.64, 'Optimal': 1.0, 'Risk/Caution': 0.97}, 'penalty': 'l1', 'solver': 'saga'}\n",
      "Best Cross-Validation Score: 0.6264570932539683\n"
     ]
    }
   ],
   "source": [
    "warnings.filterwarnings(\"ignore\")\n",
    "\n",
    "# Define the model\n",
    "model = LogisticRegression(max_iter=10000)\n",
    "\n",
    "# Define the hyperparameter distribution\n",
    "param_dist = {\n",
    "    'penalty': [\"l1\", \"l2\", None],\n",
    "    'C': stats.uniform(0.01, 300),  # Continuous range for C\n",
    "    'solver': ['saga'],  # Continuous range for l1_ratio\n",
    "    'class_weight': [\n",
    "        {\"Low/Minimal\": .64, \"Optimal\": 1.0, \"Risk/Caution\": .97}, #RECONFIRMAR ISTO\n",
    "        None,  # No class weights\n",
    "    ],  # Class weights for balancing\n",
    "}\n",
    "\n",
    "# Perform Randomized Search with Cross-Validation\n",
    "random_search = RandomizedSearchCV(estimator=model,\n",
    "                                   param_distributions=param_dist, # Hyperparameter distribution\n",
    "                                   n_iter=100, # iterations \n",
    "                                   cv=8, # cross-validation\n",
    "                                   scoring='accuracy', # metric\n",
    "                                   random_state=42) # seed\n",
    "random_search.fit(X_train, y_train)\n",
    "\n",
    "# Results\n",
    "print(\"Best Parameters:\", random_search.best_params_)\n",
    "print(\"Best Cross-Validation Score:\", random_search.best_score_)"
   ]
  },
  {
   "cell_type": "code",
   "execution_count": 31,
   "metadata": {},
   "outputs": [
    {
     "data": {
      "text/plain": [
       "['model_reglog.pkl']"
      ]
     },
     "execution_count": 31,
     "metadata": {},
     "output_type": "execute_result"
    }
   ],
   "source": [
    "best_model = random_search.best_estimator_\n",
    "joblib.dump(best_model, 'model_reglog.pkl')"
   ]
  },
  {
   "cell_type": "code",
   "execution_count": 32,
   "metadata": {},
   "outputs": [
    {
     "data": {
      "image/png": "[encoded data removed]",
      "text/plain": [
       "<Figure size 500x300 with 1 Axes>"
      ]
     },
     "metadata": {},
     "output_type": "display_data"
    }
   ],
   "source": [
    "\n",
    "\n",
    "# Generate learning curve\n",
    "train_sizes, train_scores, test_scores = learning_curve(\n",
    "    best_model, X_train, y_train, cv=8, scoring='accuracy', n_jobs=-1, train_sizes=np.linspace(0.1, 1.0, 10)\n",
    ")\n",
    "\n",
    "# Calculate mean and std for plotting\n",
    "train_mean = np.mean(train_scores, axis=1)\n",
    "train_std = np.std(train_scores, axis=1)\n",
    "test_mean = np.mean(test_scores, axis=1)\n",
    "test_std = np.std(test_scores, axis=1)\n",
    "\n",
    "# Plot the learning curve\n",
    "plt.figure(figsize=(10, 6))\n",
    "plt.plot(train_sizes, train_mean, 'o-', label=\"Training score\", color=\"blue\")\n",
    "plt.fill_between(train_sizes, train_mean - train_std, train_mean + train_std, alpha=0.1, color=\"blue\")\n",
    "plt.plot(train_sizes, test_mean, 'o-', label=\"Cross-validation score\", color=\"green\")\n",
    "plt.fill_between(train_sizes, test_mean - test_std, test_mean + test_std, alpha=0.1, color=\"green\")\n",
    "#plt.title(\"Learning Curve\")\n",
    "plt.xlabel(\"Training Set Size\")\n",
    "plt.ylabel(\"8-Fold Cross-Validation Accuracy\")\n",
    "#plt.ylabel(\"Accuracy\")\n",
    "plt.legend(loc=\"best\")\n",
    "plt.ylim(0.3, 1.0)\n",
    "plt.grid()\n",
    "plt.tight_layout()\n",
    "plt.savefig(\"assets/LOGR_lercurve.png\", transparent=True)\n",
    "plt.show()\n"
   ]
  },
  {
   "cell_type": "markdown",
   "metadata": {},
   "source": [
    "# medidas de avaliacao"
   ]
  },
  {
   "cell_type": "code",
   "execution_count": 33,
   "metadata": {},
   "outputs": [
    {
     "data": {
      "image/png": "[encoded data removed]",
      "text/plain": [
       "<Figure size 250x200 with 2 Axes>"
      ]
     },
     "metadata": {},
     "output_type": "display_data"
    },
    {
     "data": {
      "image/png": "[encoded data removed]",
      "text/plain": [
       "<Figure size 250x200 with 2 Axes>"
      ]
     },
     "metadata": {},
     "output_type": "display_data"
    }
   ],
   "source": [
    "# Assuming X (features) and y (labels) are defined elsewhere in your code\n",
    "\n",
    "# Split the data into train and test sets\n",
    "\n",
    "# Fit the model to the training data\n",
    "best_model.fit(X_train, y_train)\n",
    "\n",
    "# Make predictions on the test set\n",
    "y_pred_test = best_model.predict(X_test)\n",
    "\n",
    "# Generate the confusion matrix for the test set\n",
    "cm_test = confusion_matrix(y_test, y_pred_test)\n",
    "\n",
    "# Display the confusion matrix for the test set\n",
    "disp_test = ConfusionMatrixDisplay(confusion_matrix=cm_test, display_labels=best_model.classes_)\n",
    "disp_test.plot(cmap=\"Blues\")\n",
    "#plt.title(\"Confusion Matrix - Test Set\")\n",
    "plt.tight_layout()\n",
    "plt.savefig(\"assets/LOGR_confmatTest.png\", transparent=True)\n",
    "plt.show()\n",
    "\n",
    "# Optionally, you can also generate confusion matrix for the training set\n",
    "y_pred_train = best_model.predict(X_train)\n",
    "\n",
    "# Generate the confusion matrix for the train set\n",
    "cm_train = confusion_matrix(y_train, y_pred_train)\n",
    "\n",
    "# Display the confusion matrix for the train set\n",
    "disp_train = ConfusionMatrixDisplay(confusion_matrix=cm_train, display_labels=best_model.classes_)\n",
    "disp_train.plot(cmap=\"Blues\")\n",
    "plt.tight_layout()\n",
    "plt.savefig(\"assets/LOGR_confmatTrain.png\", transparent=True)\n",
    "plt.show()\n"
   ]
  },
  {
   "cell_type": "code",
   "execution_count": 34,
   "metadata": {},
   "outputs": [
    {
     "name": "stdout",
     "output_type": "stream",
     "text": [
      "Classification Report:\n",
      "\n",
      "              precision    recall  f1-score   support\n",
      "\n",
      " Low/Minimal       0.72      0.65      0.68        43\n",
      "     Optimal       0.52      0.53      0.53        43\n",
      "Risk/Caution       0.71      0.76      0.74        42\n",
      "\n",
      "    accuracy                           0.65       128\n",
      "   macro avg       0.65      0.65      0.65       128\n",
      "weighted avg       0.65      0.65      0.65       128\n",
      "\n"
     ]
    }
   ],
   "source": [
    "\n",
    "y_pred_test = best_model.predict(X_test)\n",
    "report = classification_report(y_test, y_pred_test)\n",
    "print(\"Classification Report:\\n\")\n",
    "print(report)\n"
   ]
  },
  {
   "cell_type": "code",
   "execution_count": 35,
   "metadata": {},
   "outputs": [
    {
     "name": "stdout",
     "output_type": "stream",
     "text": [
      "              precision    recall  f1-score   support\n",
      "\n",
      " Low/Minimal       0.79      0.64      0.71       170\n",
      "     Optimal       0.53      0.54      0.53       170\n",
      "Risk/Caution       0.61      0.72      0.66       171\n",
      "\n",
      "    accuracy                           0.63       511\n",
      "   macro avg       0.64      0.63      0.63       511\n",
      "weighted avg       0.64      0.63      0.63       511\n",
      "\n"
     ]
    }
   ],
   "source": [
    "y_pred_train = best_model.predict(X_train)\n",
    "print(classification_report(y_train, y_pred_train))"
   ]
  },
  {
   "cell_type": "code",
   "execution_count": null,
   "metadata": {},
   "outputs": [],
   "source": []
  }
 ],
 "metadata": {
  "kernelspec": {
   "display_name": "FAA",
   "language": "python",
   "name": "python3"
  },
  "language_info": {
   "codemirror_mode": {
    "name": "ipython",
    "version": 3
   },
   "file_extension": ".py",
   "mimetype": "text/x-python",
   "name": "python",
   "nbconvert_exporter": "python",
   "pygments_lexer": "ipython3",
   "version": "3.10.15"
  }
 },
 "nbformat": 4,
 "nbformat_minor": 2
}
