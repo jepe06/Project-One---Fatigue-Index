{
 "cells": [
  {
   "cell_type": "markdown",
   "metadata": {},
   "source": [
    "## equilibrar todos os niveis de fadiga e de sexos, usando smote\n",
    "\n",
    "eq fadiga com smote\n",
    "\n",
    "### o smote não é bom pq cria variaveis continuas mesmo quando sao ordinais"
   ]
  },
  {
   "cell_type": "markdown",
   "metadata": {},
   "source": [
    "### Import of libraries"
   ]
  },
  {
   "cell_type": "code",
   "execution_count": 1,
   "metadata": {},
   "outputs": [],
   "source": [
    "import pandas as pd\n",
    "import numpy as np"
   ]
  },
  {
   "cell_type": "markdown",
   "metadata": {},
   "source": [
    "### Reading of the file and one of the sheets"
   ]
  },
  {
   "cell_type": "code",
   "execution_count": 2,
   "metadata": {},
   "outputs": [
    {
     "name": "stderr",
     "output_type": "stream",
     "text": [
      "/var/folders/sz/96b_h5gn3y33k0c7jsvrstmm0000gn/T/ipykernel_6519/1740791164.py:16: FutureWarning: The default fill_method='pad' in Series.pct_change is deprecated and will be removed in a future version. Either fill in any non-leading NA values prior to calling pct_change or specify 'fill_method=None' to not fill NA values.\n",
      "  Athletes[i]['Diferença Peso'] = Athletes[i]['Peso basal'].pct_change()\n"
     ]
    },
    {
     "data": {
      "text/html": [
       "<div>\n",
       "<style scoped>\n",
       "    .dataframe tbody tr th:only-of-type {\n",
       "        vertical-align: middle;\n",
       "    }\n",
       "\n",
       "    .dataframe tbody tr th {\n",
       "        vertical-align: top;\n",
       "    }\n",
       "\n",
       "    .dataframe thead th {\n",
       "        text-align: right;\n",
       "    }\n",
       "</style>\n",
       "<table border=\"1\" class=\"dataframe\">\n",
       "  <thead>\n",
       "    <tr style=\"text-align: right;\">\n",
       "      <th></th>\n",
       "      <th>Date</th>\n",
       "      <th>Appetite</th>\n",
       "      <th>StSpirit</th>\n",
       "      <th>pEffort</th>\n",
       "      <th>uaI</th>\n",
       "      <th>FatigInd</th>\n",
       "      <th>uaI(-1)</th>\n",
       "      <th>DeltaWt (%)</th>\n",
       "      <th>DeltaHrtwo</th>\n",
       "      <th>Name</th>\n",
       "      <th>Sex_F</th>\n",
       "      <th>SleepInd</th>\n",
       "    </tr>\n",
       "  </thead>\n",
       "  <tbody>\n",
       "    <tr>\n",
       "      <th>0</th>\n",
       "      <td>2019-10-18</td>\n",
       "      <td>6.0</td>\n",
       "      <td>4.0</td>\n",
       "      <td>6.0</td>\n",
       "      <td>1.76</td>\n",
       "      <td>99.809325</td>\n",
       "      <td>NaN</td>\n",
       "      <td>NaN</td>\n",
       "      <td>2.0</td>\n",
       "      <td>F_f</td>\n",
       "      <td>1</td>\n",
       "      <td>-3.50</td>\n",
       "    </tr>\n",
       "    <tr>\n",
       "      <th>1</th>\n",
       "      <td>2019-10-19</td>\n",
       "      <td>7.0</td>\n",
       "      <td>7.0</td>\n",
       "      <td>7.0</td>\n",
       "      <td>1.66</td>\n",
       "      <td>87.095325</td>\n",
       "      <td>1.76</td>\n",
       "      <td>0.000000</td>\n",
       "      <td>-6.0</td>\n",
       "      <td>F_f</td>\n",
       "      <td>1</td>\n",
       "      <td>-7.00</td>\n",
       "    </tr>\n",
       "    <tr>\n",
       "      <th>2</th>\n",
       "      <td>2019-10-20</td>\n",
       "      <td>7.0</td>\n",
       "      <td>3.0</td>\n",
       "      <td>4.0</td>\n",
       "      <td>1.42</td>\n",
       "      <td>50.660225</td>\n",
       "      <td>1.66</td>\n",
       "      <td>0.000000</td>\n",
       "      <td>6.0</td>\n",
       "      <td>F_f</td>\n",
       "      <td>1</td>\n",
       "      <td>-8.75</td>\n",
       "    </tr>\n",
       "    <tr>\n",
       "      <th>3</th>\n",
       "      <td>2019-10-21</td>\n",
       "      <td>5.0</td>\n",
       "      <td>3.0</td>\n",
       "      <td>4.0</td>\n",
       "      <td>2.03</td>\n",
       "      <td>64.996625</td>\n",
       "      <td>1.42</td>\n",
       "      <td>0.000000</td>\n",
       "      <td>0.0</td>\n",
       "      <td>F_f</td>\n",
       "      <td>1</td>\n",
       "      <td>-5.50</td>\n",
       "    </tr>\n",
       "    <tr>\n",
       "      <th>4</th>\n",
       "      <td>2019-10-22</td>\n",
       "      <td>6.0</td>\n",
       "      <td>3.0</td>\n",
       "      <td>6.0</td>\n",
       "      <td>1.62</td>\n",
       "      <td>57.985725</td>\n",
       "      <td>2.03</td>\n",
       "      <td>0.009917</td>\n",
       "      <td>-6.0</td>\n",
       "      <td>F_f</td>\n",
       "      <td>1</td>\n",
       "      <td>-5.00</td>\n",
       "    </tr>\n",
       "    <tr>\n",
       "      <th>...</th>\n",
       "      <td>...</td>\n",
       "      <td>...</td>\n",
       "      <td>...</td>\n",
       "      <td>...</td>\n",
       "      <td>...</td>\n",
       "      <td>...</td>\n",
       "      <td>...</td>\n",
       "      <td>...</td>\n",
       "      <td>...</td>\n",
       "      <td>...</td>\n",
       "      <td>...</td>\n",
       "      <td>...</td>\n",
       "    </tr>\n",
       "    <tr>\n",
       "      <th>1267</th>\n",
       "      <td>2020-05-12</td>\n",
       "      <td>6.0</td>\n",
       "      <td>5.0</td>\n",
       "      <td>6.0</td>\n",
       "      <td>2.00</td>\n",
       "      <td>115.433793</td>\n",
       "      <td>2.00</td>\n",
       "      <td>0.000000</td>\n",
       "      <td>12.0</td>\n",
       "      <td>I_f</td>\n",
       "      <td>1</td>\n",
       "      <td>-5.00</td>\n",
       "    </tr>\n",
       "    <tr>\n",
       "      <th>1268</th>\n",
       "      <td>2020-05-13</td>\n",
       "      <td>6.0</td>\n",
       "      <td>5.0</td>\n",
       "      <td>5.0</td>\n",
       "      <td>2.00</td>\n",
       "      <td>53.098793</td>\n",
       "      <td>2.00</td>\n",
       "      <td>0.000000</td>\n",
       "      <td>6.0</td>\n",
       "      <td>I_f</td>\n",
       "      <td>1</td>\n",
       "      <td>-6.50</td>\n",
       "    </tr>\n",
       "    <tr>\n",
       "      <th>1269</th>\n",
       "      <td>2020-05-14</td>\n",
       "      <td>6.0</td>\n",
       "      <td>5.0</td>\n",
       "      <td>5.0</td>\n",
       "      <td>2.00</td>\n",
       "      <td>53.423793</td>\n",
       "      <td>2.00</td>\n",
       "      <td>0.000000</td>\n",
       "      <td>6.0</td>\n",
       "      <td>I_f</td>\n",
       "      <td>1</td>\n",
       "      <td>-6.00</td>\n",
       "    </tr>\n",
       "    <tr>\n",
       "      <th>1270</th>\n",
       "      <td>2020-05-15</td>\n",
       "      <td>6.0</td>\n",
       "      <td>5.0</td>\n",
       "      <td>6.0</td>\n",
       "      <td>2.00</td>\n",
       "      <td>80.333793</td>\n",
       "      <td>2.00</td>\n",
       "      <td>0.000000</td>\n",
       "      <td>6.0</td>\n",
       "      <td>I_f</td>\n",
       "      <td>1</td>\n",
       "      <td>-5.00</td>\n",
       "    </tr>\n",
       "    <tr>\n",
       "      <th>1271</th>\n",
       "      <td>2020-05-16</td>\n",
       "      <td>6.0</td>\n",
       "      <td>5.0</td>\n",
       "      <td>5.0</td>\n",
       "      <td>2.00</td>\n",
       "      <td>65.123793</td>\n",
       "      <td>2.00</td>\n",
       "      <td>0.000000</td>\n",
       "      <td>0.0</td>\n",
       "      <td>I_f</td>\n",
       "      <td>1</td>\n",
       "      <td>-6.00</td>\n",
       "    </tr>\n",
       "  </tbody>\n",
       "</table>\n",
       "<p>1272 rows × 12 columns</p>\n",
       "</div>"
      ],
      "text/plain": [
       "           Date  Appetite  StSpirit  pEffort   uaI    FatigInd  uaI(-1)  \\\n",
       "0    2019-10-18       6.0       4.0      6.0  1.76   99.809325      NaN   \n",
       "1    2019-10-19       7.0       7.0      7.0  1.66   87.095325     1.76   \n",
       "2    2019-10-20       7.0       3.0      4.0  1.42   50.660225     1.66   \n",
       "3    2019-10-21       5.0       3.0      4.0  2.03   64.996625     1.42   \n",
       "4    2019-10-22       6.0       3.0      6.0  1.62   57.985725     2.03   \n",
       "...         ...       ...       ...      ...   ...         ...      ...   \n",
       "1267 2020-05-12       6.0       5.0      6.0  2.00  115.433793     2.00   \n",
       "1268 2020-05-13       6.0       5.0      5.0  2.00   53.098793     2.00   \n",
       "1269 2020-05-14       6.0       5.0      5.0  2.00   53.423793     2.00   \n",
       "1270 2020-05-15       6.0       5.0      6.0  2.00   80.333793     2.00   \n",
       "1271 2020-05-16       6.0       5.0      5.0  2.00   65.123793     2.00   \n",
       "\n",
       "      DeltaWt (%)  DeltaHrtwo Name  Sex_F  SleepInd  \n",
       "0             NaN         2.0  F_f      1     -3.50  \n",
       "1        0.000000        -6.0  F_f      1     -7.00  \n",
       "2        0.000000         6.0  F_f      1     -8.75  \n",
       "3        0.000000         0.0  F_f      1     -5.50  \n",
       "4        0.009917        -6.0  F_f      1     -5.00  \n",
       "...           ...         ...  ...    ...       ...  \n",
       "1267     0.000000        12.0  I_f      1     -5.00  \n",
       "1268     0.000000         6.0  I_f      1     -6.50  \n",
       "1269     0.000000         6.0  I_f      1     -6.00  \n",
       "1270     0.000000         6.0  I_f      1     -5.00  \n",
       "1271     0.000000         0.0  I_f      1     -6.00  \n",
       "\n",
       "[1272 rows x 12 columns]"
      ]
     },
     "execution_count": 2,
     "metadata": {},
     "output_type": "execute_result"
    }
   ],
   "source": [
    "# The athletes' names are hiden, and only the initial name and gender are visible through the naming of each dataset\n",
    "\n",
    "Athletes = {'F_f': '',\n",
    "            'J_f': '',\n",
    "            'F_m': '',\n",
    "            'G_m': '',\n",
    "            'V_f': '',\n",
    "            'A_m': '',\n",
    "            'I_f': ''\n",
    "            }\n",
    "\n",
    "# Importing the data to the Athletes dictionary\n",
    "for i in Athletes:\n",
    "    Athletes[i] = pd.read_excel('DataFatigInd.xlsx', sheet_name = i)\n",
    "    Athletes[i]['U.A. Intensidade (ontem)'] =  Athletes[i]['U.A. Intensidade'].shift(1)\n",
    "    Athletes[i]['Diferença Peso'] = Athletes[i]['Peso basal'].pct_change()\n",
    "    Athletes[i]['Diferença Pulso'] = Athletes[i]['Pulso após 2 horas'] - Athletes[i]['Pulso basal']\n",
    "    Athletes[i].rename(columns={'Data': 'Date',\n",
    "                                'Nr dia': 'NrDay',\n",
    "                                'Qualidade de Sono': 'QSleep',\n",
    "                                'Horas de Cama': 'TSleep',\n",
    "                                'Apetite': 'Appetite',\n",
    "                                'Estado de Ânimo': 'StSpirit',\n",
    "                                'Percepção Carga': 'pEffort',\n",
    "                                'Pulso após 2 horas': 'ATHr',\n",
    "                                'Pulso basal': 'Hr',\n",
    "                                'U.A. Intensidade': 'uaI',\n",
    "                                'ÍNDICE DE FADIGA': 'FatigInd',\n",
    "                                'Peso basal': 'Wt',\n",
    "                                'U.A. Intensidade (ontem)': 'uaI(-1)',\n",
    "                                'Diferença Peso': 'DeltaWt (%)',\n",
    "                                'Diferença Pulso': 'DeltaHrtwo'\n",
    "                                }, inplace=True)\n",
    "    Athletes[i][\"Name\"] = i\n",
    "    Athletes[i][\"Sex_F\"] = 1 if i[-1] == \"f\" else 0\n",
    "    Athletes[i][\"SleepInd\"] =  Athletes[i][\"QSleep\"] - Athletes[i][\"TSleep\"]\n",
    "    \n",
    "df = pd.concat(Athletes.values(), ignore_index=True)\n",
    "df.drop(columns=['NrDay', 'QSleep', 'TSleep', 'Hr', 'ATHr', 'Wt'], inplace=True)\n",
    "\n",
    "df"
   ]
  },
  {
   "cell_type": "markdown",
   "metadata": {},
   "source": [
    "O mais interessante é saber a classificação da fadiga para determinar o peso do treino e não o valor, logo devemos fazer intervalos. Seguindo as indicaçãos do expert aka treinador:\n",
    "\n",
    "5 fatigue classifications:\n",
    "\n",
    "- *Risk*: Danger! Must rest. Risk of injury or pathological fatigue.\n",
    "\n",
    "- *Caution*: Caution! If it repeats over several days, reduce the load.\n",
    "\n",
    "- *Optimal*: Optimal workload.\n",
    "\n",
    "- *Low*: Low load zone. For recovery purposes only.\n",
    "\n",
    "- *Minimal*: Excessively low load. Ineffective work."
   ]
  },
  {
   "cell_type": "code",
   "execution_count": 3,
   "metadata": {},
   "outputs": [],
   "source": [
    "def fatigue_class(fatigue):\n",
    "    if fatigue > 80:\n",
    "        return \"Risk/Caution\"\n",
    "    elif fatigue >= 40:\n",
    "        return \"Optimal\"\n",
    "    else:\n",
    "        return \"Low/Minimal\"\n",
    "    \n",
    "df[\"FatigInd\"] = df[\"FatigInd\"].map(fatigue_class)"
   ]
  },
  {
   "cell_type": "code",
   "execution_count": 4,
   "metadata": {},
   "outputs": [
    {
     "name": "stdout",
     "output_type": "stream",
     "text": [
      "<class 'pandas.core.frame.DataFrame'>\n",
      "RangeIndex: 1272 entries, 0 to 1271\n",
      "Data columns (total 12 columns):\n",
      " #   Column       Non-Null Count  Dtype         \n",
      "---  ------       --------------  -----         \n",
      " 0   Name         1272 non-null   object        \n",
      " 1   Date         1272 non-null   datetime64[ns]\n",
      " 2   Sex_F        1272 non-null   int64         \n",
      " 3   Appetite     1183 non-null   float64       \n",
      " 4   SleepInd     1185 non-null   float64       \n",
      " 5   StSpirit     1183 non-null   float64       \n",
      " 6   pEffort      1183 non-null   float64       \n",
      " 7   uaI          1255 non-null   float64       \n",
      " 8   uaI(-1)      1248 non-null   float64       \n",
      " 9   DeltaWt (%)  1265 non-null   float64       \n",
      " 10  DeltaHrtwo   1171 non-null   float64       \n",
      " 11  FatigInd     1272 non-null   object        \n",
      "dtypes: datetime64[ns](1), float64(8), int64(1), object(2)\n",
      "memory usage: 119.4+ KB\n"
     ]
    }
   ],
   "source": [
    "# Brief description of the data\n",
    "df = df[['Name', 'Date', 'Sex_F', 'Appetite', 'SleepInd', 'StSpirit', 'pEffort',\n",
    "         'uaI', 'uaI(-1)', 'DeltaWt (%)', 'DeltaHrtwo', 'FatigInd']]\n",
    "\n",
    "df.info()#.describe() "
   ]
  },
  {
   "cell_type": "markdown",
   "metadata": {},
   "source": [
    "### Description of the variables\n",
    "\n",
    "\n",
    "- *deltahrtwo - se modelo for mau, fazer apos2h - media do basal - 10\n",
    "\n",
    "- *DeltaHrb\n",
    "\n",
    "|  | Variables             | Simplified variable | Description                                                   | Scale     |\n",
    "|--| --------------------- | ------------------- | ------------------------------------------------------------- | --------- |\n",
    "|  |                       | All scales go from lowest (best feeling) to highest (worse feeling)                 |           |\n",
    "| 0|                       | Name                | First letter of the athlete's name and sex                    |           |\n",
    "| 1| Data                  | Date                | Date of the measure                                           | Ordinal   |\n",
    "| 2|                       | Sex_F               | Athlete's gender                                              |           |\n",
    "| 3| Apetite               | Appetite            | Measure of appetite throughout the day                        | 2 - 10    |\n",
    "| 4| Índice de Sono        | SleepInd            | Calculated as function of quality of sleep and time in bed    | Ordinal   |\n",
    "| 5| Estado de ânimo       | StSpirit            | State of spirit, motivation                                   | 2 - 10    |\n",
    "| 6| Percepção de carga    | pEffort             | Perceived effort from the workout                             | 2 - 10    |\n",
    "| 7| U. A. Intensidade     | uaI                 | Calculated int. from each workout, depending on type of exe.  | 1 - 5     |\n",
    "| 8| U. A. Intensidade (ontem) | uaI(-1)         | uaI from the day before                                       | 1 - 5     |\n",
    "| 9| Diferença peso        | DeltaWt (%)         | Percentual difference in weight in consecutive days           | 0 - 100   |\n",
    "|10| Diferença pulso 2 hr  | DeltaHrtwo          | Delta of heart rate before and after the workout              | 2 - 10    |\n",
    "|11| Índica de Fadiga      | FatigInd            | Calculated fatigue index from the variables above             | 0 - 100   |\n"
   ]
  },
  {
   "cell_type": "code",
   "execution_count": 5,
   "metadata": {},
   "outputs": [
    {
     "data": {
      "text/plain": [
       "Name             0\n",
       "Date             0\n",
       "Sex_F            0\n",
       "Appetite        89\n",
       "SleepInd        87\n",
       "StSpirit        89\n",
       "pEffort         89\n",
       "uaI             17\n",
       "uaI(-1)         24\n",
       "DeltaWt (%)      7\n",
       "DeltaHrtwo     101\n",
       "FatigInd         0\n",
       "dtype: int64"
      ]
     },
     "execution_count": 5,
     "metadata": {},
     "output_type": "execute_result"
    }
   ],
   "source": [
    "df.isna().sum()"
   ]
  },
  {
   "cell_type": "markdown",
   "metadata": {},
   "source": []
  },
  {
   "cell_type": "markdown",
   "metadata": {},
   "source": [
    "## NaN\n",
    "\n",
    "apos analisar as variaveis e os valores em falta, chegou-se a conclusao que o melhor seria remover obs com valores em falta"
   ]
  },
  {
   "cell_type": "code",
   "execution_count": 6,
   "metadata": {},
   "outputs": [
    {
     "name": "stderr",
     "output_type": "stream",
     "text": [
      "/var/folders/sz/96b_h5gn3y33k0c7jsvrstmm0000gn/T/ipykernel_6519/3486782518.py:1: SettingWithCopyWarning: \n",
      "A value is trying to be set on a copy of a slice from a DataFrame\n",
      "\n",
      "See the caveats in the documentation: https://pandas.pydata.org/pandas-docs/stable/user_guide/indexing.html#returning-a-view-versus-a-copy\n",
      "  df.dropna(inplace=True)\n"
     ]
    },
    {
     "data": {
      "text/plain": [
       "Name           0\n",
       "Date           0\n",
       "Sex_F          0\n",
       "Appetite       0\n",
       "SleepInd       0\n",
       "StSpirit       0\n",
       "pEffort        0\n",
       "uaI            0\n",
       "uaI(-1)        0\n",
       "DeltaWt (%)    0\n",
       "DeltaHrtwo     0\n",
       "FatigInd       0\n",
       "dtype: int64"
      ]
     },
     "execution_count": 6,
     "metadata": {},
     "output_type": "execute_result"
    }
   ],
   "source": [
    "df.dropna(inplace=True)\n",
    "df.isna().sum()"
   ]
  },
  {
   "cell_type": "markdown",
   "metadata": {},
   "source": [
    "## dataset analysis pt.2 \n",
    "\n",
    "ver qnt de tipos de fadiga e sexos"
   ]
  },
  {
   "cell_type": "code",
   "execution_count": 7,
   "metadata": {},
   "outputs": [
    {
     "name": "stdout",
     "output_type": "stream",
     "text": [
      "       FatigInd  contagem\n",
      "0   Low/Minimal       194\n",
      "1       Optimal       742\n",
      "2  Risk/Caution       225\n"
     ]
    }
   ],
   "source": [
    "combinacoes = df.groupby(['FatigInd']).size().reset_index(name='contagem')\n",
    "print(combinacoes)"
   ]
  },
  {
   "cell_type": "code",
   "execution_count": 8,
   "metadata": {},
   "outputs": [
    {
     "data": {
      "image/png": "[encoded data removed]",
      "text/plain": [
       "<Figure size 800x700 with 1 Axes>"
      ]
     },
     "metadata": {},
     "output_type": "display_data"
    }
   ],
   "source": [
    "def plot_FATIGvsSEX(df):\n",
    "    import matplotlib.pyplot as plt\n",
    "\n",
    "    color_map = {\n",
    "        'Risk/Caution': 'salmon',\n",
    "        'Low/Minimal': 'skyblue',\n",
    "        'Optimal': 'lightgreen'\n",
    "        # Add more categories and their corresponding colors if needed\n",
    "    }\n",
    "\n",
    "    plt.rcParams.update({\n",
    "        \"text.usetex\": True,              # If you want to use LaTeX fonts in text\n",
    "        \"font.family\": \"serif\",           # IEEE uses Times New Roman-like fonts\n",
    "        \"font.size\": 12,                   # General font size for IEEE format\n",
    "        \"axes.labelsize\": 12,              # Axis labels font size\n",
    "        \"legend.fontsize\": 11,             # Legend font size\n",
    "        \"xtick.labelsize\": 11,             # X-axis tick labels font size\n",
    "        \"ytick.labelsize\": 11,             # Y-axis tick labels font size\n",
    "        \"figure.figsize\": (5, 5*0.8),\n",
    "        \"savefig.dpi\": 1200,               # DPI for high-quality PNG/JPEG\n",
    "    })\n",
    "\n",
    "    # Count occurrences of each category in FatigInd\n",
    "    contagem = df['FatigInd'].value_counts()\n",
    "    custom_order = ['Risk/Caution', 'Optimal', 'Low/Minimal']\n",
    "    contagem = contagem[custom_order]\n",
    "    \n",
    "    colors = [color_map.get(cat, 'gray') for cat in contagem.index]\n",
    "\n",
    "    \n",
    "\n",
    "    # Plot the chart\n",
    "    contagem.plot(kind='bar', color=colors, figsize=(8, 7))\n",
    "    plt.title('Count of Each Category')\n",
    "    plt.xlabel('Category')\n",
    "    plt.ylabel('Count')\n",
    "    plt.grid(axis='y', alpha=0.2)\n",
    "    plt.xticks(rotation=0)\n",
    "    plt.tight_layout()\n",
    "    plt.savefig(f'assets/distribution_FatigInd(0).png', dpi=900, bbox_inches='tight', transparent=True)\n",
    "    plt.show()\n",
    "\n",
    "\n",
    "plot_FATIGvsSEX(df)"
   ]
  },
  {
   "cell_type": "code",
   "execution_count": 9,
   "metadata": {},
   "outputs": [
    {
     "data": {
      "text/plain": [
       "225"
      ]
     },
     "execution_count": 9,
     "metadata": {},
     "output_type": "execute_result"
    }
   ],
   "source": [
    "225"
   ]
  },
  {
   "cell_type": "markdown",
   "metadata": {},
   "source": [
    "# UNICA PARTE DIFERENTE: SMOTE E UNDERSAMPLER"
   ]
  },
  {
   "cell_type": "code",
   "execution_count": 10,
   "metadata": {},
   "outputs": [
    {
     "name": "stdout",
     "output_type": "stream",
     "text": [
      "       FatigInd  contagem\n",
      "0   Low/Minimal       225\n",
      "1       Optimal       225\n",
      "2  Risk/Caution       225\n"
     ]
    }
   ],
   "source": [
    "# EQUALIZING THE CLASSES\n",
    "classes = df[\"FatigInd\"].unique()\n",
    "target_count = 225\n",
    "\n",
    "df_balanced = pd.DataFrame() \n",
    "for cls in classes:\n",
    "    class_rows = df[df[\"FatigInd\"] == cls]\n",
    "    current_count = len(class_rows)\n",
    "    \n",
    "    if current_count < target_count:\n",
    "        # If the class has fewer rows than target, add rows\n",
    "        extra_needed = target_count - current_count\n",
    "        sampled_rows = class_rows.sample(n=extra_needed, replace=True, random_state=42)\n",
    "        df_balanced = pd.concat([df_balanced, class_rows, sampled_rows], ignore_index=True)\n",
    "\n",
    "    elif current_count > target_count:\n",
    "        # If the class has more rows than target, randomly remove rows\n",
    "        sampled_rows = class_rows.sample(n=target_count, random_state=42)\n",
    "        df_balanced = pd.concat([df_balanced, sampled_rows], ignore_index=True)\n",
    "\n",
    "    else:\n",
    "        # If the class is already at the target count, keep as is\n",
    "        df_balanced = pd.concat([df_balanced, class_rows], ignore_index=True)\n",
    "    \n",
    "\n",
    "combinacoes = df_balanced.groupby(['FatigInd']).size().reset_index(name='contagem')\n",
    "print(combinacoes)"
   ]
  },
  {
   "cell_type": "code",
   "execution_count": null,
   "metadata": {},
   "outputs": [],
   "source": [
    "df_balanced.to_csv('08notsmote.csv', index=False)"
   ]
  },
  {
   "cell_type": "code",
   "execution_count": null,
   "metadata": {},
   "outputs": [],
   "source": []
  }
 ],
 "metadata": {
  "kernelspec": {
   "display_name": "FAA",
   "language": "python",
   "name": "python3"
  },
  "language_info": {
   "codemirror_mode": {
    "name": "ipython",
    "version": 3
   },
   "file_extension": ".py",
   "mimetype": "text/x-python",
   "name": "python",
   "nbconvert_exporter": "python",
   "pygments_lexer": "ipython3",
   "version": "3.10.15"
  }
 },
 "nbformat": 4,
 "nbformat_minor": 2
}
